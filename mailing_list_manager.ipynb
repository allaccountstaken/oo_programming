{
 "cells": [
  {
   "cell_type": "markdown",
   "metadata": {},
   "source": [
    "# Case study: mailing list manager\n",
    "The manager keeps track of email addresses categorized into named groups. When it's time to send a message, we can pick a group and send the message to all email addresses assigned to that group"
   ]
  },
  {
   "cell_type": "code",
   "execution_count": 2,
   "metadata": {},
   "outputs": [],
   "source": [
    "import smtplib\n",
    "from email.mime.text import MIMEText"
   ]
  },
  {
   "cell_type": "code",
   "execution_count": 3,
   "metadata": {},
   "outputs": [],
   "source": [
    "def send_email(subject,\n",
    "               message,\n",
    "               from_addr,\n",
    "               *to_addrs,\n",
    "               host=\"localhost\",\n",
    "               port=1025,\n",
    "               **headers):\n",
    "    email = MIMEText(message)\n",
    "    email[\"Subject\"] = subject\n",
    "    email[\"From\"]=from_addr\n",
    "    for header, value in headers.items():\n",
    "        email[header] = value\n",
    "    \n",
    "    sender = smtplib.SMTP(host, port)\n",
    "    for addr in to_addrs:\n",
    "        del email[\"To\"]\n",
    "        email[\"To\"]=addr\n",
    "        sender.sendmail(from_addr, addr, email.as_string())\n",
    "    sender.quit()"
   ]
  },
  {
   "cell_type": "markdown",
   "metadata": {},
   "source": [
    "Since the values in our dictionary will always be collections of unique email addresses, we can store them in a `set` container. We can use `defaultdict` to ensure that there is always a `set` container available for each key, demonstrated as follows below:"
   ]
  },
  {
   "cell_type": "code",
   "execution_count": 9,
   "metadata": {},
   "outputs": [],
   "source": [
    "from collections import defaultdict\n",
    "\n",
    "class MailingList:\n",
    "    \"\"\"Manage groups of e-mail addresses for sending e-mails.\"\"\"\n",
    "    def __init__(self):\n",
    "        self.email_map = defaultdict(set)\n",
    "        \n",
    "    def add_to_group(self, email, group):\n",
    "        self.email_map[email].add(group)\n",
    "    \n",
    "    def emails_in_groups(self, *groups): \n",
    "        groups = set(groups)\n",
    "        emails = set() \n",
    "        for e, g in self.email_map.items(): \n",
    "            if g & groups: \n",
    "                emails.add(e)\n",
    "        return emails\n",
    "    \n",
    "    def send_mailing(self,\n",
    "                     subject,\n",
    "                     message,\n",
    "                     from_addr,\n",
    "                     *groups,\n",
    "                     headers=None):\n",
    "        emails = self.emails_in_groups(*groups)\n",
    "        send_email(subject, message, from_addr, *emails, header=headers)\n",
    "    "
   ]
  },
  {
   "cell_type": "code",
   "execution_count": null,
   "metadata": {},
   "outputs": [],
   "source": []
  }
 ],
 "metadata": {
  "kernelspec": {
   "display_name": "Python 3",
   "language": "python",
   "name": "python3"
  },
  "language_info": {
   "codemirror_mode": {
    "name": "ipython",
    "version": 3
   },
   "file_extension": ".py",
   "mimetype": "text/x-python",
   "name": "python",
   "nbconvert_exporter": "python",
   "pygments_lexer": "ipython3",
   "version": "3.8.3"
  }
 },
 "nbformat": 4,
 "nbformat_minor": 4
}
