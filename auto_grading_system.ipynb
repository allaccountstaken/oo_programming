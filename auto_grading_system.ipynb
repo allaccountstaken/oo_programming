{
 "cells": [
  {
   "cell_type": "markdown",
   "metadata": {},
   "source": [
    "# Inheritance in Python"
   ]
  },
  {
   "cell_type": "code",
   "execution_count": 2,
   "metadata": {},
   "outputs": [],
   "source": [
    "class IntroToPython:\n",
    "    def lesson(self):\n",
    "        return f\"\"\"\n",
    "            Hello {self.student}. define two variables,\n",
    "            an integer named a with value 1\n",
    "            and a string named b with value 'hello'\n",
    "\n",
    "    \"\"\"\n",
    "    \n",
    "    def check(self, code):\n",
    "        return code == \"a = 1\\nb = 'hello' \""
   ]
  },
  {
   "cell_type": "code",
   "execution_count": 4,
   "metadata": {},
   "outputs": [],
   "source": [
    "import abc\n",
    "\n",
    "class Assignment(metaclass=abc.ABCMeta):\n",
    "    @abc.abstractmethod\n",
    "    def lesson(self, student):\n",
    "        pass\n",
    "    \n",
    "    @abc.abstractmethod\n",
    "    def check(self, code):\n",
    "        pass\n",
    "    \n",
    "    @classmethod\n",
    "    def __subclasshook__(cls, C):\n",
    "        attrs = set(dir(C))\n",
    "        if set(cls.__abstractmethods__) <= attrs:\n",
    "            return True\n",
    "        return NotImplemented\n",
    "    "
   ]
  },
  {
   "cell_type": "code",
   "execution_count": 5,
   "metadata": {},
   "outputs": [],
   "source": [
    "class Statistics(Assignment):\n",
    "    def lesson(self):\n",
    "        return (\n",
    "        \"Good work so far, \"\n",
    "            + self.student\n",
    "            + \". Now calculate the average of the numbers\" \n",
    "            + \" 1, 5, 18, -3 and assign to a variable named 'avg' \"\n",
    "        )\n",
    "    \n",
    "    def check(self, code):\n",
    "        import statistics\n",
    "        code = \"import statistics\\n\" + code\n",
    "        local_vars = {}\n",
    "        global_vars = {}\n",
    "        exec(code, global_vars, local_vars)\n",
    "        \n",
    "        return local_vars.get(\"avg\") == statistics.mean([1, 5, 18, -3])\n",
    "        \n",
    "    "
   ]
  },
  {
   "cell_type": "code",
   "execution_count": 7,
   "metadata": {},
   "outputs": [],
   "source": [
    "class AssignmentGrader:\n",
    "    def __init__(self, student, AssignmentClass):\n",
    "        self.assignment = AssignmentClass()\n",
    "        self.assignment.student = student\n",
    "        self.attempts = 0\n",
    "        self.correct_attempts = 0\n",
    "    \n",
    "    def check(self, code):\n",
    "        self.attempts += 1\n",
    "        result = self.assignment.check(code)\n",
    "        if result:\n",
    "            self.correct_attempts += 1\n",
    "        return result\n",
    "    \n",
    "    def lesson(self):\n",
    "        return self.assignment.lesson()"
   ]
  },
  {
   "cell_type": "code",
   "execution_count": 31,
   "metadata": {},
   "outputs": [],
   "source": [
    "import uuid\n",
    "\n",
    "class Grader:\n",
    "    def __init__(self):\n",
    "        self.student_graders = {}\n",
    "        self.assignment_classes = {}\n",
    "        \n",
    "    def register(self, assignment_class):\n",
    "        if not issubclass(assignment_class, Assignment):\n",
    "            raise RuntimeError(\n",
    "                \"Your class does not have the right methods\"\n",
    "            )\n",
    "        id = uuid.uuid4()\n",
    "        self.assignment_classes[id] = assignment_class\n",
    "        return id\n",
    "    \n",
    "    def start_assignment(self, student, id):\n",
    "        self.student_grader[student] = AssignmentGrader(student, self.assignment_class[id])\n",
    "\n",
    "    def get_lesson(self, student):\n",
    "        assignment = self.student_graders[student]\n",
    "        return assignment.lesson()\n",
    "\n",
    "    def check_assignment(self, student, code):\n",
    "        assignment = self.student_graders[student]\n",
    "        return assignment.check(code)\n",
    "\n",
    "#     def assignment_summary(self, student):\n",
    "#         grader = self.student_graders[student]\n",
    "#         return f \"\"\" {student}'s attempts at {grader.assignment.__class__.__name__}:\n",
    "    \n",
    "#         attempts: {grader.attempts}\n",
    "#         correct: {grader.correct_attempts}\n",
    "#         passed: {grader.correct_attempts > 0} \"\"\"\n",
    "            "
   ]
  },
  {
   "cell_type": "code",
   "execution_count": 32,
   "metadata": {},
   "outputs": [
    {
     "ename": "ModuleNotFoundError",
     "evalue": "No module named 'grader'",
     "output_type": "error",
     "traceback": [
      "\u001b[0;31m---------------------------------------------------------------------------\u001b[0m",
      "\u001b[0;31mModuleNotFoundError\u001b[0m                       Traceback (most recent call last)",
      "\u001b[0;32m<ipython-input-32-20dc1c7e12b5>\u001b[0m in \u001b[0;36m<module>\u001b[0;34m\u001b[0m\n\u001b[0;32m----> 1\u001b[0;31m \u001b[0;32mfrom\u001b[0m \u001b[0mgrader\u001b[0m \u001b[0;32mimport\u001b[0m \u001b[0mGrader\u001b[0m\u001b[0;34m\u001b[0m\u001b[0;34m\u001b[0m\u001b[0m\n\u001b[0m\u001b[1;32m      2\u001b[0m \u001b[0;32mfrom\u001b[0m \u001b[0mlessons\u001b[0m \u001b[0;32mimport\u001b[0m \u001b[0mIntroToPython\u001b[0m\u001b[0;34m,\u001b[0m \u001b[0mStatistics\u001b[0m\u001b[0;34m\u001b[0m\u001b[0;34m\u001b[0m\u001b[0m\n\u001b[1;32m      3\u001b[0m \u001b[0;34m\u001b[0m\u001b[0m\n\u001b[1;32m      4\u001b[0m \u001b[0mgrader\u001b[0m \u001b[0;34m=\u001b[0m \u001b[0mGrader\u001b[0m\u001b[0;34m(\u001b[0m\u001b[0;34m)\u001b[0m\u001b[0;34m\u001b[0m\u001b[0;34m\u001b[0m\u001b[0m\n\u001b[1;32m      5\u001b[0m \u001b[0mitp_id\u001b[0m \u001b[0;34m=\u001b[0m \u001b[0mgrader\u001b[0m\u001b[0;34m.\u001b[0m\u001b[0mregister\u001b[0m\u001b[0;34m(\u001b[0m\u001b[0mIntroToPython\u001b[0m\u001b[0;34m)\u001b[0m\u001b[0;34m\u001b[0m\u001b[0;34m\u001b[0m\u001b[0m\n",
      "\u001b[0;31mModuleNotFoundError\u001b[0m: No module named 'grader'"
     ]
    }
   ],
   "source": [
    "from grader import Grader\n",
    "from lessons import IntroToPython, Statistics\n",
    "\n",
    "grader = Grader()\n",
    "itp_id = grader.register(IntroToPython)"
   ]
  },
  {
   "cell_type": "code",
   "execution_count": 33,
   "metadata": {},
   "outputs": [],
   "source": [
    "def start_assignment(self, student, id):\n",
    "    self.student_grader[student] = AssignmentGrader(\n",
    "        student, self.assignment_class[id]\n",
    "    )\n",
    "\n",
    "def get_lesson(self, student):\n",
    "    assignment = self.student_graders[student]\n",
    "    return assignment.lesson()\n",
    "\n",
    "def check_assignment(self, student, code):\n",
    "    assignment = self.student_graders[student]\n",
    "    return assignment.check(code)\n",
    "\n",
    "def assignment_summary(self, student):\n",
    "    grader = self.student_graders[student]\n",
    "    return f\"\"\"\n",
    "    {student}'s attempts at {grader.assignment.__class__.__name__}:\n",
    "    \n",
    "    attempts: {grader.attempts}\n",
    "    correct: {grader.correct_attempts}\n",
    "    passed: {grader.correct_attempts > 0}\n",
    "    \"\"\"\n",
    "    "
   ]
  },
  {
   "cell_type": "code",
   "execution_count": 34,
   "metadata": {},
   "outputs": [],
   "source": [
    "grader = Grader()\n",
    "itp_id = grader.register(IntroToPython)\n",
    "stat_id = grader.register(Statistics)"
   ]
  },
  {
   "cell_type": "code",
   "execution_count": 35,
   "metadata": {},
   "outputs": [
    {
     "ename": "AttributeError",
     "evalue": "'Grader' object has no attribute 'assignment_class'",
     "output_type": "error",
     "traceback": [
      "\u001b[0;31m---------------------------------------------------------------------------\u001b[0m",
      "\u001b[0;31mAttributeError\u001b[0m                            Traceback (most recent call last)",
      "\u001b[0;32m<ipython-input-35-6599d6c1c385>\u001b[0m in \u001b[0;36m<module>\u001b[0;34m\u001b[0m\n\u001b[0;32m----> 1\u001b[0;31m \u001b[0mgrader\u001b[0m\u001b[0;34m.\u001b[0m\u001b[0mstart_assignment\u001b[0m\u001b[0;34m(\u001b[0m\u001b[0;34m\"Tammy\"\u001b[0m\u001b[0;34m,\u001b[0m \u001b[0mitp_id\u001b[0m\u001b[0;34m)\u001b[0m\u001b[0;34m\u001b[0m\u001b[0;34m\u001b[0m\u001b[0m\n\u001b[0m",
      "\u001b[0;32m<ipython-input-31-687327f86c52>\u001b[0m in \u001b[0;36mstart_assignment\u001b[0;34m(self, student, id)\u001b[0m\n\u001b[1;32m     16\u001b[0m \u001b[0;34m\u001b[0m\u001b[0m\n\u001b[1;32m     17\u001b[0m     \u001b[0;32mdef\u001b[0m \u001b[0mstart_assignment\u001b[0m\u001b[0;34m(\u001b[0m\u001b[0mself\u001b[0m\u001b[0;34m,\u001b[0m \u001b[0mstudent\u001b[0m\u001b[0;34m,\u001b[0m \u001b[0mid\u001b[0m\u001b[0;34m)\u001b[0m\u001b[0;34m:\u001b[0m\u001b[0;34m\u001b[0m\u001b[0;34m\u001b[0m\u001b[0m\n\u001b[0;32m---> 18\u001b[0;31m         \u001b[0mself\u001b[0m\u001b[0;34m.\u001b[0m\u001b[0mstudent_grader\u001b[0m\u001b[0;34m[\u001b[0m\u001b[0mstudent\u001b[0m\u001b[0;34m]\u001b[0m \u001b[0;34m=\u001b[0m \u001b[0mAssignmentGrader\u001b[0m\u001b[0;34m(\u001b[0m\u001b[0mstudent\u001b[0m\u001b[0;34m,\u001b[0m \u001b[0mself\u001b[0m\u001b[0;34m.\u001b[0m\u001b[0massignment_class\u001b[0m\u001b[0;34m[\u001b[0m\u001b[0mid\u001b[0m\u001b[0;34m]\u001b[0m\u001b[0;34m)\u001b[0m\u001b[0;34m\u001b[0m\u001b[0;34m\u001b[0m\u001b[0m\n\u001b[0m\u001b[1;32m     19\u001b[0m \u001b[0;34m\u001b[0m\u001b[0m\n\u001b[1;32m     20\u001b[0m     \u001b[0;32mdef\u001b[0m \u001b[0mget_lesson\u001b[0m\u001b[0;34m(\u001b[0m\u001b[0mself\u001b[0m\u001b[0;34m,\u001b[0m \u001b[0mstudent\u001b[0m\u001b[0;34m)\u001b[0m\u001b[0;34m:\u001b[0m\u001b[0;34m\u001b[0m\u001b[0;34m\u001b[0m\u001b[0m\n",
      "\u001b[0;31mAttributeError\u001b[0m: 'Grader' object has no attribute 'assignment_class'"
     ]
    }
   ],
   "source": [
    "grader.start_assignment(\"Tammy\", itp_id)"
   ]
  },
  {
   "cell_type": "code",
   "execution_count": null,
   "metadata": {},
   "outputs": [],
   "source": [
    "grader."
   ]
  }
 ],
 "metadata": {
  "kernelspec": {
   "display_name": "Python 3",
   "language": "python",
   "name": "python3"
  },
  "language_info": {
   "codemirror_mode": {
    "name": "ipython",
    "version": 3
   },
   "file_extension": ".py",
   "mimetype": "text/x-python",
   "name": "python",
   "nbconvert_exporter": "python",
   "pygments_lexer": "ipython3",
   "version": "3.8.3"
  }
 },
 "nbformat": 4,
 "nbformat_minor": 4
}
