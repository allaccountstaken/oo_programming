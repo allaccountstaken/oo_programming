{
 "cells": [
  {
   "cell_type": "markdown",
   "metadata": {},
   "source": [
    "# Document"
   ]
  },
  {
   "cell_type": "markdown",
   "metadata": {},
   "source": [
    "## *Case study: when use OO versus built-in type?*"
   ]
  },
  {
   "cell_type": "code",
   "execution_count": 1,
   "metadata": {},
   "outputs": [],
   "source": [
    "class Document:\n",
    "    def __init__(self):\n",
    "        self.characters = []\n",
    "        self.cursor = 0\n",
    "        self.filename = \"\"\n",
    "    \n",
    "    def insert(self, character):\n",
    "        self.characters.insert(self.cursor, character)\n",
    "        self.cursor += 1\n",
    "        \n",
    "    def delete(self):\n",
    "        del self.characters[self.cursor]\n",
    "        \n",
    "    def save(self):\n",
    "        with open(self.filename, \"w\") as f:\n",
    "            f.write(\"\".join(self.characters))\n",
    "            \n",
    "#     def forward(self):\n",
    "#         self.cursor += 1\n",
    "    \n",
    "#     def back(self):\n",
    "#         self.cursor -= 1\n",
    "        "
   ]
  },
  {
   "cell_type": "code",
   "execution_count": 2,
   "metadata": {},
   "outputs": [],
   "source": [
    "doc = Document()"
   ]
  },
  {
   "cell_type": "code",
   "execution_count": 3,
   "metadata": {},
   "outputs": [],
   "source": [
    "doc.filename = \"test_document\""
   ]
  },
  {
   "cell_type": "code",
   "execution_count": 4,
   "metadata": {},
   "outputs": [],
   "source": [
    "doc.insert('h')\n",
    "doc.insert('e')\n",
    "doc.insert('l')\n",
    "doc.insert('l')\n",
    "doc.insert('o')"
   ]
  },
  {
   "cell_type": "code",
   "execution_count": 6,
   "metadata": {},
   "outputs": [
    {
     "data": {
      "text/plain": [
       "['h', 'e', 'l', 'l', 'o']"
      ]
     },
     "execution_count": 6,
     "metadata": {},
     "output_type": "execute_result"
    }
   ],
   "source": [
    "doc.characters"
   ]
  },
  {
   "cell_type": "code",
   "execution_count": 7,
   "metadata": {},
   "outputs": [
    {
     "data": {
      "text/plain": [
       "5"
      ]
     },
     "execution_count": 7,
     "metadata": {},
     "output_type": "execute_result"
    }
   ],
   "source": [
    "doc.cursor"
   ]
  },
  {
   "cell_type": "code",
   "execution_count": 8,
   "metadata": {},
   "outputs": [],
   "source": [
    "doc.back()\n",
    "doc.delete()\n",
    "doc.insert('p')"
   ]
  },
  {
   "cell_type": "code",
   "execution_count": 9,
   "metadata": {},
   "outputs": [
    {
     "data": {
      "text/plain": [
       "['h', 'e', 'l', 'l', 'p']"
      ]
     },
     "execution_count": 9,
     "metadata": {},
     "output_type": "execute_result"
    }
   ],
   "source": [
    "doc.characters"
   ]
  },
  {
   "cell_type": "code",
   "execution_count": 10,
   "metadata": {},
   "outputs": [],
   "source": [
    "class Cursor:\n",
    "    def __init__(self, document):\n",
    "        self.document = document\n",
    "        self.position = 0\n",
    "    \n",
    "    def forward(self):\n",
    "        self.position += 1\n",
    "        \n",
    "    def back(self):\n",
    "        self.position -= 1\n",
    "    \n",
    "    def home(self):\n",
    "        while self.document.characters[self.position - 1].character != \"\\n\":\n",
    "            self.position -= 1\n",
    "            if self.position == 0:\n",
    "                break # Got to the beginning of file before new line\n",
    "    \n",
    "    def end(self):\n",
    "        while(\n",
    "            self.position < len(self.document.characters)\n",
    "            and self.document.characters[self.position] != \"\\n\"):\n",
    "            self.position += 1"
   ]
  },
  {
   "cell_type": "code",
   "execution_count": 36,
   "metadata": {},
   "outputs": [],
   "source": [
    "d = Document()"
   ]
  },
  {
   "cell_type": "code",
   "execution_count": 37,
   "metadata": {},
   "outputs": [],
   "source": [
    "d.insert('h')\n",
    "d.insert('e')\n",
    "d.insert('l')\n",
    "d.insert('l')\n",
    "d.insert('o')\n",
    "d.insert('\\n')\n",
    "d.insert('w')\n",
    "d.insert('o')\n",
    "d.insert('r')\n",
    "d.insert('l')\n",
    "d.insert('d')"
   ]
  },
  {
   "cell_type": "code",
   "execution_count": 38,
   "metadata": {},
   "outputs": [
    {
     "data": {
      "text/plain": [
       "['h', 'e', 'l', 'l', 'o', '\\n', 'w', 'o', 'r', 'l', 'd']"
      ]
     },
     "execution_count": 38,
     "metadata": {},
     "output_type": "execute_result"
    }
   ],
   "source": [
    "d.characters"
   ]
  },
  {
   "cell_type": "code",
   "execution_count": 39,
   "metadata": {},
   "outputs": [
    {
     "data": {
      "text/plain": [
       "11"
      ]
     },
     "execution_count": 39,
     "metadata": {},
     "output_type": "execute_result"
    }
   ],
   "source": [
    "d.cursor"
   ]
  },
  {
   "cell_type": "code",
   "execution_count": 40,
   "metadata": {},
   "outputs": [],
   "source": [
    "d.cursor = 6"
   ]
  },
  {
   "cell_type": "code",
   "execution_count": 41,
   "metadata": {},
   "outputs": [],
   "source": [
    "d.insert('*')"
   ]
  },
  {
   "cell_type": "code",
   "execution_count": 42,
   "metadata": {},
   "outputs": [
    {
     "data": {
      "text/plain": [
       "['h', 'e', 'l', 'l', 'o', '\\n', '*', 'w', 'o', 'r', 'l', 'd']"
      ]
     },
     "execution_count": 42,
     "metadata": {},
     "output_type": "execute_result"
    }
   ],
   "source": [
    "d.characters"
   ]
  },
  {
   "cell_type": "code",
   "execution_count": 43,
   "metadata": {},
   "outputs": [
    {
     "name": "stdout",
     "output_type": "stream",
     "text": [
      "hello\n",
      "*world\n"
     ]
    }
   ],
   "source": [
    "print(\"\".join(d.characters))"
   ]
  },
  {
   "cell_type": "code",
   "execution_count": null,
   "metadata": {},
   "outputs": [],
   "source": []
  }
 ],
 "metadata": {
  "kernelspec": {
   "display_name": "Python 3",
   "language": "python",
   "name": "python3"
  },
  "language_info": {
   "codemirror_mode": {
    "name": "ipython",
    "version": 3
   },
   "file_extension": ".py",
   "mimetype": "text/x-python",
   "name": "python",
   "nbconvert_exporter": "python",
   "pygments_lexer": "ipython3",
   "version": "3.8.3"
  }
 },
 "nbformat": 4,
 "nbformat_minor": 4
}
