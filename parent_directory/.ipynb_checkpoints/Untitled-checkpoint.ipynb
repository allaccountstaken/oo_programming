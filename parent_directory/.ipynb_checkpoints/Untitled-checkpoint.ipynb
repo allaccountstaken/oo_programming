{
 "cells": [
  {
   "cell_type": "code",
   "execution_count": 119,
   "metadata": {},
   "outputs": [
    {
     "name": "stdout",
     "output_type": "stream",
     "text": [
      "\n",
      "        Notebook Menu\n",
      "        \n",
      "        1. Show all Notes\n",
      "        2. Search Notes\n",
      "        3. Add Note\n",
      "        4. Modify Notes\n",
      "        5. Quit\n",
      "        \n",
      "Enter an option: 1\n"
     ]
    },
    {
     "ename": "TypeError",
     "evalue": "'type' object is not iterable",
     "output_type": "error",
     "traceback": [
      "\u001b[0;31m---------------------------------------------------------------------------\u001b[0m",
      "\u001b[0;31mTypeError\u001b[0m                                 Traceback (most recent call last)",
      "\u001b[0;32m<ipython-input-119-b3b774ac4ae4>\u001b[0m in \u001b[0;36m<module>\u001b[0;34m\u001b[0m\n\u001b[1;32m     69\u001b[0m \u001b[0;34m\u001b[0m\u001b[0m\n\u001b[1;32m     70\u001b[0m \u001b[0;32mif\u001b[0m \u001b[0m__name__\u001b[0m \u001b[0;34m==\u001b[0m \u001b[0;34m\"__main__\"\u001b[0m\u001b[0;34m:\u001b[0m\u001b[0;34m\u001b[0m\u001b[0;34m\u001b[0m\u001b[0m\n\u001b[0;32m---> 71\u001b[0;31m     \u001b[0mMenu\u001b[0m\u001b[0;34m(\u001b[0m\u001b[0;34m)\u001b[0m\u001b[0;34m.\u001b[0m\u001b[0mrun\u001b[0m\u001b[0;34m(\u001b[0m\u001b[0;34m)\u001b[0m\u001b[0;34m\u001b[0m\u001b[0;34m\u001b[0m\u001b[0m\n\u001b[0m",
      "\u001b[0;32m<ipython-input-119-b3b774ac4ae4>\u001b[0m in \u001b[0;36mrun\u001b[0;34m(self)\u001b[0m\n\u001b[1;32m     35\u001b[0m             \u001b[0maction\u001b[0m \u001b[0;34m=\u001b[0m \u001b[0mself\u001b[0m\u001b[0;34m.\u001b[0m\u001b[0mchoices\u001b[0m\u001b[0;34m.\u001b[0m\u001b[0mget\u001b[0m\u001b[0;34m(\u001b[0m\u001b[0mchoice\u001b[0m\u001b[0;34m)\u001b[0m\u001b[0;34m\u001b[0m\u001b[0;34m\u001b[0m\u001b[0m\n\u001b[1;32m     36\u001b[0m             \u001b[0;32mif\u001b[0m \u001b[0maction\u001b[0m\u001b[0;34m:\u001b[0m\u001b[0;34m\u001b[0m\u001b[0;34m\u001b[0m\u001b[0m\n\u001b[0;32m---> 37\u001b[0;31m                 \u001b[0maction\u001b[0m\u001b[0;34m(\u001b[0m\u001b[0;34m)\u001b[0m\u001b[0;34m\u001b[0m\u001b[0;34m\u001b[0m\u001b[0m\n\u001b[0m\u001b[1;32m     38\u001b[0m             \u001b[0;32melse\u001b[0m\u001b[0;34m:\u001b[0m\u001b[0;34m\u001b[0m\u001b[0;34m\u001b[0m\u001b[0m\n\u001b[1;32m     39\u001b[0m                 \u001b[0mprint\u001b[0m\u001b[0;34m(\u001b[0m\u001b[0;34m\"{0} is not a valid choice\"\u001b[0m\u001b[0;34m.\u001b[0m\u001b[0mformat\u001b[0m\u001b[0;34m(\u001b[0m\u001b[0mchoice\u001b[0m\u001b[0;34m)\u001b[0m\u001b[0;34m)\u001b[0m\u001b[0;34m\u001b[0m\u001b[0;34m\u001b[0m\u001b[0m\n",
      "\u001b[0;32m<ipython-input-119-b3b774ac4ae4>\u001b[0m in \u001b[0;36mshow_notes\u001b[0;34m(self, notes)\u001b[0m\n\u001b[1;32m     42\u001b[0m         \u001b[0;32mif\u001b[0m \u001b[0;32mnot\u001b[0m \u001b[0mnotes\u001b[0m\u001b[0;34m:\u001b[0m\u001b[0;34m\u001b[0m\u001b[0;34m\u001b[0m\u001b[0m\n\u001b[1;32m     43\u001b[0m             \u001b[0mnotes\u001b[0m \u001b[0;34m=\u001b[0m \u001b[0mself\u001b[0m\u001b[0;34m.\u001b[0m\u001b[0mnotebook\u001b[0m\u001b[0;34m.\u001b[0m\u001b[0mnotes\u001b[0m\u001b[0;34m\u001b[0m\u001b[0;34m\u001b[0m\u001b[0m\n\u001b[0;32m---> 44\u001b[0;31m         \u001b[0;32mfor\u001b[0m \u001b[0mnote\u001b[0m \u001b[0;32min\u001b[0m \u001b[0mnotes\u001b[0m\u001b[0;34m:\u001b[0m\u001b[0;34m\u001b[0m\u001b[0;34m\u001b[0m\u001b[0m\n\u001b[0m\u001b[1;32m     45\u001b[0m             \u001b[0mprint\u001b[0m\u001b[0;34m(\u001b[0m\u001b[0;34m\"{0}: {1}\\n{2}\"\u001b[0m\u001b[0;34m.\u001b[0m\u001b[0mformat\u001b[0m\u001b[0;34m(\u001b[0m\u001b[0mnote\u001b[0m\u001b[0;34m.\u001b[0m\u001b[0mid\u001b[0m\u001b[0;34m,\u001b[0m \u001b[0mnote\u001b[0m\u001b[0;34m.\u001b[0m\u001b[0mtags\u001b[0m\u001b[0;34m,\u001b[0m \u001b[0mnote\u001b[0m\u001b[0;34m.\u001b[0m\u001b[0mmemo\u001b[0m\u001b[0;34m)\u001b[0m\u001b[0;34m)\u001b[0m\u001b[0;34m\u001b[0m\u001b[0;34m\u001b[0m\u001b[0m\n\u001b[1;32m     46\u001b[0m \u001b[0;34m\u001b[0m\u001b[0m\n",
      "\u001b[0;31mTypeError\u001b[0m: 'type' object is not iterable"
     ]
    }
   ],
   "source": [
    "import sys \n",
    "from notebook import Notebook \n",
    "\n",
    "class Menu:\n",
    "    \"\"\"Display a menu and respond to choices when run.\"\"\"\n",
    "    \n",
    "    def __init__(self):\n",
    "        self.notebook = Notebook()\n",
    "        self.choices = {\n",
    "            \"1\" : self.show_notes,\n",
    "            \"2\" : self.search_notes,\n",
    "            \"3\" : self.add_note,\n",
    "            \"4\" : self.modify_note,\n",
    "            \"5\" : self.quit\n",
    "        }\n",
    "    \n",
    "    def display_menu(self):\n",
    "        print(\n",
    "        \"\"\"\n",
    "        Notebook Menu:\n",
    "        -------------\n",
    "        1. Show all Notes\n",
    "        2. Search Notes\n",
    "        3. Add Note\n",
    "        4. Modify Notes\n",
    "        5. Quit\n",
    "        \"\"\"\n",
    "        )\n",
    "    \n",
    "    def run(self):\n",
    "        \"\"\"Display menu and respond \"\"\"\n",
    "        while True:\n",
    "            self.display_menu()\n",
    "            choice = input(\"Enter an option: \")\n",
    "            action = self.choices.get(choice)\n",
    "            if action:\n",
    "                action()\n",
    "            else:\n",
    "                print(\"{0} is not a valid choice\".format(choice))\n",
    "                \n",
    "    def show_notes(self, notes=Note):\n",
    "        if not notes:\n",
    "            notes = self.notebook.notes\n",
    "        for note in notes:\n",
    "            print(\"{0}: {1}\\n{2}\".format(note.id, note.tags, note.memo))\n",
    "    \n",
    "    def search_notes(self):\n",
    "        filter = input(\"Search for: \")\n",
    "        notes = self.notebook.search(filter)\n",
    "        self.show_notes(notes)\n",
    "    \n",
    "    def add_note(self):\n",
    "        memo = input(\"Enter a memo: \")\n",
    "        self.notebook.new_note(memo)\n",
    "        print(\"Your note has been added.\")\n",
    "        \n",
    "    def modify_note(self):\n",
    "        id = input(\"Enter a note id: \")\n",
    "        memo = input(\"Enter a memo: \")\n",
    "        tags = imput(\"Enter tags: \")\n",
    "        if memo:\n",
    "            self.notebook.modify_memo(id, memo)\n",
    "        if tags:\n",
    "            self.notebook.modify_tags(id, tags)\n",
    "            \n",
    "    def quit(self):\n",
    "        print(\"Thank you for usin this notebook today\")\n",
    "        sys.exit(0)\n",
    "        \n",
    "if __name__ == \"__main__\":\n",
    "    Menu().run()"
   ]
  },
  {
   "cell_type": "code",
   "execution_count": 115,
   "metadata": {},
   "outputs": [],
   "source": [
    "m = Menu()"
   ]
  },
  {
   "cell_type": "code",
   "execution_count": null,
   "metadata": {},
   "outputs": [],
   "source": []
  },
  {
   "cell_type": "code",
   "execution_count": null,
   "metadata": {},
   "outputs": [],
   "source": []
  }
 ],
 "metadata": {
  "kernelspec": {
   "display_name": "Python 3",
   "language": "python",
   "name": "python3"
  },
  "language_info": {
   "codemirror_mode": {
    "name": "ipython",
    "version": 3
   },
   "file_extension": ".py",
   "mimetype": "text/x-python",
   "name": "python",
   "nbconvert_exporter": "python",
   "pygments_lexer": "ipython3",
   "version": "3.8.3"
  }
 },
 "nbformat": 4,
 "nbformat_minor": 4
}
