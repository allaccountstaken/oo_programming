{
 "cells": [
  {
   "cell_type": "markdown",
   "metadata": {},
   "source": [
    "### Keyword arguments \n",
    "These are very useful when we need to accept arbitrary arguments to pass to  a second function, but we don't know what those arguments will be, for example when building support for multiple inheritance. One option is to combine the variable argument and variable keyword argument syntax in one function call, and use normal positional and default arguments as well. The following example below, although somewhat contrived, demonstrates the four types in action (Phillips, Dusty, \"Python Object-Oriented Programming\", third edition, p 211.)"
   ]
  },
  {
   "cell_type": "code",
   "execution_count": 14,
   "metadata": {},
   "outputs": [],
   "source": [
    "import shutil\n",
    "import os.path\n",
    "\n",
    "def augmented_move(target_folder,\n",
    "                   *filenames,\n",
    "                   verbose=False,\n",
    "                   **specific):\n",
    "    \"\"\"Move all filenames into the target_folder, allowing foe specific treatment \n",
    "    of certain file types\"\"\"\n",
    "    \n",
    "    def print_verbose(message, filenames):\n",
    "        \"\"\"Print the message only when verbose is enables\"\"\"\n",
    "        if verbose:\n",
    "            print(message.format(filename))\n",
    "            \n",
    "    for filename in filenames:\n",
    "        target_path = os.path.join(target_folder, filename)\n",
    "        if filename in specific:\n",
    "            if specific[filename] == \"ignore\":\n",
    "                print_verbose(\"Ignoring {0} \", filename)\n",
    "            elif specific[filename] == \"copy\":\n",
    "                print_verbose(\"Copying {0} \", filename)\n",
    "                shutil.copyfile(filename, target_path)\n",
    "            else:\n",
    "                print_verbose(\"Moving {0} \", filename)\n",
    "                shutil.move(filename, target_path)\n",
    "            "
   ]
  },
  {
   "cell_type": "code",
   "execution_count": 15,
   "metadata": {},
   "outputs": [],
   "source": [
    "augmented_move('move here', 'three', verbose=True, four='copy')"
   ]
  },
  {
   "cell_type": "markdown",
   "metadata": {},
   "source": [
    "### Functions are objects too\n",
    "Should be able to pass two different functions into a thirsd function and get different output for each one"
   ]
  },
  {
   "cell_type": "code",
   "execution_count": 16,
   "metadata": {},
   "outputs": [],
   "source": [
    "def my_function():\n",
    "    print(\"The first my_function() was called\")\n",
    "my_function.description = \"My first silly finction\"\n",
    "\n",
    "def the_second_function():\n",
    "    print(\"Now the second fucntion was called\")\n",
    "the_second_function.description = \"set description for the_seconf_function\"\n",
    "\n",
    "def another_function(function):\n",
    "    print(\"The description:\", end=\" \")\n",
    "    print(function.description)\n",
    "    print(\"The name: \", end=\" \")\n",
    "    print(function.__name__)\n",
    "    print(\"The class: \", end=\" \")\n",
    "    print(function.__class__)\n",
    "    print(\"Now call the function that was passed in\")\n",
    "    function()"
   ]
  },
  {
   "cell_type": "code",
   "execution_count": 17,
   "metadata": {},
   "outputs": [
    {
     "name": "stdout",
     "output_type": "stream",
     "text": [
      "The description: My first silly finction\n",
      "The name:  my_function\n",
      "The class:  <class 'function'>\n",
      "Now call the function that was passed in\n",
      "The first my_function() was called\n"
     ]
    }
   ],
   "source": [
    "another_function(my_function)"
   ]
  },
  {
   "cell_type": "code",
   "execution_count": 18,
   "metadata": {},
   "outputs": [
    {
     "name": "stdout",
     "output_type": "stream",
     "text": [
      "The description: set description for the_seconf_function\n",
      "The name:  the_second_function\n",
      "The class:  <class 'function'>\n",
      "Now call the function that was passed in\n",
      "Now the second fucntion was called\n"
     ]
    }
   ],
   "source": [
    "another_function(the_second_function)"
   ]
  },
  {
   "cell_type": "markdown",
   "metadata": {},
   "source": [
    "### Event-driven timer\n",
    "Functions are top-level objects and can be passed around to be executed at a later date, for example , when a certain condition has been satisfied."
   ]
  },
  {
   "cell_type": "code",
   "execution_count": 21,
   "metadata": {},
   "outputs": [],
   "source": [
    "import time\n",
    "import datetime\n",
    "\n",
    "class TimedEvent:\n",
    "    def __init__(self, endtime, callback):\n",
    "        self.endtime = endtime\n",
    "        self.callback = callback\n",
    "    \n",
    "    def ready(self):\n",
    "        return self.endtime <= datetime.datetime.now()\n",
    "    \n",
    "class Timer:\n",
    "    def __init__(self):\n",
    "        self.events = []\n",
    "        \n",
    "    def call_after(self, delay, callback):\n",
    "        end_time = datetime.datetime.now() + datetime.timedelta(seconds=delay)\n",
    "        self.events.append(TimedEvent(end_time, callback))\n",
    "        \n",
    "    def run(self):\n",
    "        while True: #This needs to be interrupted with Ctrl + C\n",
    "            ready_events = (e for e in self.events if e.ready())\n",
    "            for event in ready_events:\n",
    "                event.callback(self)\n",
    "                self.events.remove(event)\n",
    "            time.sleep(0.5)\n",
    "            \n",
    "# Several callbacks to test the timer below:\n",
    "def format_time(message, *args):\n",
    "    now = datetime.datetime.now()\n",
    "    print(f\"{now:%I:%M:%S}: {message}\")\n",
    "\n",
    "def one(timer):\n",
    "    format_time(\"Called One\")\n",
    "\n",
    "def two(timer):\n",
    "    format_time(\"Called Two\")\n",
    "    \n",
    "def three(timer):\n",
    "    format_time(\"Called Three\")\n",
    "\n",
    "class Repeater:\n",
    "    def __init__(self):\n",
    "        self.count = 0\n",
    "    \n",
    "    def repeater(self, timer):\n",
    "        format_time(f\"repeat {self.count}\" )\n",
    "        self.count += 1\n",
    "        timer.call_after(5, self.repeater)"
   ]
  },
  {
   "cell_type": "markdown",
   "metadata": {},
   "source": [
    "**Note:** the function is passed around like any other object and the timer never needs to know or care what the original name of the function is or where it was defined. When it's time to call the function, the timer simply applies the parenthesis syntax to the stored variable."
   ]
  },
  {
   "cell_type": "code",
   "execution_count": null,
   "metadata": {},
   "outputs": [
    {
     "name": "stdout",
     "output_type": "stream",
     "text": [
      "07:12:15: Starting\n",
      "07:12:16: Called One\n",
      "07:12:17: Called One\n",
      "07:12:18: Called Two\n",
      "07:12:18: Called Three\n",
      "07:12:19: Called Two\n",
      "07:12:20: repeat 0\n",
      "07:12:21: Called Three\n",
      "07:12:25: repeat 1\n",
      "07:12:30: repeat 2\n",
      "07:12:35: repeat 3\n",
      "07:12:40: repeat 4\n",
      "07:12:45: repeat 5\n",
      "07:12:50: repeat 6\n",
      "07:12:55: repeat 7\n",
      "07:13:00: repeat 8\n",
      "07:13:05: repeat 9\n",
      "07:13:10: repeat 10\n",
      "07:13:15: repeat 11\n",
      "07:13:20: repeat 12\n",
      "07:13:25: repeat 13\n",
      "07:13:30: repeat 14\n",
      "07:13:35: repeat 15\n",
      "07:13:40: repeat 16\n",
      "07:13:45: repeat 17\n",
      "07:13:50: repeat 18\n",
      "07:13:56: repeat 19\n",
      "07:14:01: repeat 20\n",
      "07:14:06: repeat 21\n",
      "07:14:11: repeat 22\n",
      "07:14:16: repeat 23\n",
      "07:14:21: repeat 24\n",
      "07:14:26: repeat 25\n",
      "07:14:31: repeat 26\n",
      "07:14:36: repeat 27\n",
      "07:14:41: repeat 28\n",
      "07:14:46: repeat 29\n",
      "07:14:51: repeat 30\n",
      "07:14:56: repeat 31\n",
      "07:15:01: repeat 32\n",
      "07:15:06: repeat 33\n",
      "07:15:11: repeat 34\n",
      "07:15:16: repeat 35\n"
     ]
    }
   ],
   "source": [
    "timer = Timer()\n",
    "timer.call_after(1, one)\n",
    "timer.call_after(2, one)\n",
    "timer.call_after(2, two)\n",
    "timer.call_after(4, two)\n",
    "timer.call_after(3, three)\n",
    "timer.call_after(6, three)\n",
    "repeater = Repeater()\n",
    "timer.call_after(5, repeater.repeater)\n",
    "format_time(\"Starting\")\n",
    "timer.run()"
   ]
  },
  {
   "cell_type": "markdown",
   "metadata": {},
   "source": [
    "### Using functions as attributes\n",
    "Functions can be set as callable attributes on other objects. It is possible o add or change a function to an instantiated object, demonstrated as follows below:"
   ]
  },
  {
   "cell_type": "code",
   "execution_count": 3,
   "metadata": {},
   "outputs": [
    {
     "name": "stdout",
     "output_type": "stream",
     "text": [
      "my class is A\n"
     ]
    }
   ],
   "source": [
    "class A:\n",
    "    def print(self):\n",
    "        print(\"my class is A\")\n",
    "\n",
    "def fake_print():\n",
    "    print(\"my class is not A\")\n",
    "    \n",
    "a = A()\n",
    "a.print()"
   ]
  },
  {
   "cell_type": "code",
   "execution_count": 5,
   "metadata": {},
   "outputs": [
    {
     "name": "stdout",
     "output_type": "stream",
     "text": [
      "my class is not A\n"
     ]
    }
   ],
   "source": [
    "a.print = fake_print\n",
    "a.print()"
   ]
  },
  {
   "cell_type": "code",
   "execution_count": null,
   "metadata": {},
   "outputs": [],
   "source": []
  }
 ],
 "metadata": {
  "kernelspec": {
   "display_name": "Python 3",
   "language": "python",
   "name": "python3"
  },
  "language_info": {
   "codemirror_mode": {
    "name": "ipython",
    "version": 3
   },
   "file_extension": ".py",
   "mimetype": "text/x-python",
   "name": "python",
   "nbconvert_exporter": "python",
   "pygments_lexer": "ipython3",
   "version": "3.8.3"
  }
 },
 "nbformat": 4,
 "nbformat_minor": 4
}
