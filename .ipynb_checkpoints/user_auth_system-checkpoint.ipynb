{
 "cells": [
  {
   "cell_type": "markdown",
   "metadata": {},
   "source": [
    "# Exceptions in Python"
   ]
  },
  {
   "cell_type": "markdown",
   "metadata": {},
   "source": [
    "### *Case Study: User Authentication System*"
   ]
  },
  {
   "cell_type": "code",
   "execution_count": 46,
   "metadata": {},
   "outputs": [],
   "source": [
    "import hashlib"
   ]
  },
  {
   "cell_type": "code",
   "execution_count": 47,
   "metadata": {},
   "outputs": [],
   "source": [
    "class User:\n",
    "    \n",
    "    def __init__(self, username, password):\n",
    "        \"\"\"Create a new user object. The password will be encrypted before storing\"\"\"\n",
    "        self.username = username\n",
    "        self.password = self._encrypt_pw(password)\n",
    "        self.is_logged_in = False\n",
    "        \n",
    "    def _encrypt_pw(self, password):\n",
    "        \"\"\"Encrypt the passowrd with the username and return the SHA digest\"\"\"\n",
    "        hash_string = self.username + password\n",
    "        hash_string = hash_string.encode(\"utf8\")\n",
    "        return hashlib.sha256(hash_string).hexdigest()\n",
    "    \n",
    "    def check_password(self, password):\n",
    "        \"\"\"Return True if the password is valid for this user, false otherwise\"\"\"\n",
    "        encrypted = self._encrypt_pw(password)\n",
    "        return  encrypted == self.password"
   ]
  },
  {
   "cell_type": "code",
   "execution_count": 48,
   "metadata": {},
   "outputs": [],
   "source": [
    "class AuthException(Exception):    \n",
    "    def __init__(self, username, user=None):\n",
    "        super().__init__(username, user)\n",
    "        self.username = username\n",
    "        self.user = user\n",
    "\n",
    "class UsernameAlreadyExists(AuthException):\n",
    "    pass\n",
    "\n",
    "class PasswordTooShort(AuthException):\n",
    "    pass\n",
    "\n",
    "class InvalidUserName(AuthException):\n",
    "    pass\n",
    "\n",
    "class InvalidPassword(AuthException):\n",
    "    pass\n",
    "\n",
    "class NotLoggedInError(AuthException):\n",
    "    pass\n",
    "\n",
    "class NotPermittedError(AuthException):\n",
    "    pass\n",
    "\n",
    "class PermissionError(Exception):\n",
    "    pass"
   ]
  },
  {
   "cell_type": "code",
   "execution_count": 63,
   "metadata": {},
   "outputs": [],
   "source": [
    "class Authenticator:\n",
    "    \n",
    "    def __init__(self):\n",
    "        \"\"\"Construct an authenticator to manage users loggin in and out\"\"\"\n",
    "        self.users = {}\n",
    "        \n",
    "    def add_users(self, username, password):\n",
    "        if username in self.users:\n",
    "            raise UsernameAlreadyExists(username)\n",
    "        if len(password) < 6:\n",
    "            raise PasswordTooShort(username)\n",
    "        self.users[username] = User(username, password)\n",
    "        \n",
    "    def login(self, username, password):\n",
    "        try:\n",
    "            user = self.users[username]\n",
    "        except KeyError:\n",
    "            raise InvalidUserName(username)\n",
    "            \n",
    "        if not user.check_password(password):\n",
    "            raise InvalidPassword(username, user)\n",
    "        \n",
    "        user.is_logged_in = True\n",
    "        return True\n",
    "    \n",
    "    def is_logged_in(self, username):\n",
    "        if username in self.users:\n",
    "            return self.users[username].is_logged_in\n",
    "        return False"
   ]
  },
  {
   "cell_type": "code",
   "execution_count": 64,
   "metadata": {},
   "outputs": [],
   "source": [
    "class Authorizor:\n",
    "    \n",
    "    def __init__(self, authenticator):\n",
    "        self.permissions = {}\n",
    "        \n",
    "    def add_permission(self, perm_name):\n",
    "        \"\"\"Create a new permission that users can be added to\"\"\"\n",
    "        try:\n",
    "            perm_set= self.permissions[perm_name]\n",
    "        except KeyError:\n",
    "            self.permissions[perm_name] = set()\n",
    "        else:\n",
    "            raise PermissionError(\"Permission does not exist\")\n",
    "    \n",
    "    def permit_user(self, perm_name, username):\n",
    "        \"\"\"Grant the given permission to the user\"\"\"\n",
    "        try:\n",
    "            perm.set = self.permissions[perm_name]\n",
    "        except KeyError:\n",
    "            raise PermissionError(\"Permission does not exist\")\n",
    "        else:\n",
    "            if username not in self.authenticator.users:\n",
    "                raise InvalidUserName(username)\n",
    "            perm_set.add(username)\n",
    "        \n",
    "    def check_permission(self, perm_name, username):\n",
    "        if not self.authenticator.is_logged_in(username):\n",
    "            raise NotLoggedInErro(username)\n",
    "        try:\n",
    "            perm_set = self.permissions[perm_name]\n",
    "        except KeyError:\n",
    "            raise PermissionError(\"Permission does not exist\")\n",
    "        else:\n",
    "            if username not in perm_set:\n",
    "                raise NotPermittedError(username)\n",
    "            else:\n",
    "                return True\n",
    "            "
   ]
  },
  {
   "cell_type": "code",
   "execution_count": 65,
   "metadata": {},
   "outputs": [],
   "source": [
    "authenticator = Authenticator()\n",
    "authorizor = Authorizor(authenticator)"
   ]
  },
  {
   "cell_type": "code",
   "execution_count": 66,
   "metadata": {},
   "outputs": [],
   "source": [
    "authenticator.add_users(\"joe\", \"password\")"
   ]
  },
  {
   "cell_type": "code",
   "execution_count": 67,
   "metadata": {},
   "outputs": [
    {
     "data": {
      "text/plain": [
       "{'joe': <__main__.User at 0x7fbe63da7d30>}"
      ]
     },
     "execution_count": 67,
     "metadata": {},
     "output_type": "execute_result"
    }
   ],
   "source": [
    "authenticator.users"
   ]
  },
  {
   "cell_type": "code",
   "execution_count": null,
   "metadata": {},
   "outputs": [],
   "source": []
  }
 ],
 "metadata": {
  "kernelspec": {
   "display_name": "Python 3",
   "language": "python",
   "name": "python3"
  },
  "language_info": {
   "codemirror_mode": {
    "name": "ipython",
    "version": 3
   },
   "file_extension": ".py",
   "mimetype": "text/x-python",
   "name": "python",
   "nbconvert_exporter": "python",
   "pygments_lexer": "ipython3",
   "version": "3.8.3"
  }
 },
 "nbformat": 4,
 "nbformat_minor": 4
}
