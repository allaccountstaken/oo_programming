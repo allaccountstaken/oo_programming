{
 "cells": [
  {
   "cell_type": "markdown",
   "metadata": {},
   "source": [
    "# Document"
   ]
  },
  {
   "cell_type": "markdown",
   "metadata": {},
   "source": [
    "## *Case study: when use OO versus built-in type?*"
   ]
  },
  {
   "cell_type": "code",
   "execution_count": 70,
   "metadata": {},
   "outputs": [],
   "source": [
    "class Document:\n",
    "    def __init__(self):\n",
    "        self.characters = []\n",
    "        self.cursor = 0\n",
    "        self.filename = \"\"\n",
    "    \n",
    "    def insert(self, character):\n",
    "        if not hasattr(character, \"character\"):\n",
    "            character = Character(character)\n",
    "        self.characters.insert(self.cursor, character)\n",
    "        self.cursor += 1\n",
    "        \n",
    "    def delete(self):\n",
    "        del self.characters[self.cursor]\n",
    "        \n",
    "    def save(self):\n",
    "        with open(self.filename, \"w\") as f:\n",
    "            f.write(\"\".join(self.characters))\n",
    "            \n",
    "#     def forward(self):\n",
    "#         self.cursor += 1\n",
    "    \n",
    "#     def back(self):\n",
    "#         self.cursor -= 1\n",
    "\n",
    "    @property\n",
    "    def string(self):\n",
    "        return \"\".join((str(c) for c in self.characters))"
   ]
  },
  {
   "cell_type": "code",
   "execution_count": 2,
   "metadata": {},
   "outputs": [],
   "source": [
    "doc = Document()"
   ]
  },
  {
   "cell_type": "code",
   "execution_count": 3,
   "metadata": {},
   "outputs": [],
   "source": [
    "doc.filename = \"test_document\""
   ]
  },
  {
   "cell_type": "code",
   "execution_count": 4,
   "metadata": {},
   "outputs": [],
   "source": [
    "doc.insert('h')\n",
    "doc.insert('e')\n",
    "doc.insert('l')\n",
    "doc.insert('l')\n",
    "doc.insert('o')"
   ]
  },
  {
   "cell_type": "code",
   "execution_count": 6,
   "metadata": {},
   "outputs": [
    {
     "data": {
      "text/plain": [
       "['h', 'e', 'l', 'l', 'o']"
      ]
     },
     "execution_count": 6,
     "metadata": {},
     "output_type": "execute_result"
    }
   ],
   "source": [
    "doc.characters"
   ]
  },
  {
   "cell_type": "code",
   "execution_count": 7,
   "metadata": {},
   "outputs": [
    {
     "data": {
      "text/plain": [
       "5"
      ]
     },
     "execution_count": 7,
     "metadata": {},
     "output_type": "execute_result"
    }
   ],
   "source": [
    "doc.cursor"
   ]
  },
  {
   "cell_type": "code",
   "execution_count": 8,
   "metadata": {},
   "outputs": [],
   "source": [
    "doc.back()\n",
    "doc.delete()\n",
    "doc.insert('p')"
   ]
  },
  {
   "cell_type": "code",
   "execution_count": 9,
   "metadata": {},
   "outputs": [
    {
     "data": {
      "text/plain": [
       "['h', 'e', 'l', 'l', 'p']"
      ]
     },
     "execution_count": 9,
     "metadata": {},
     "output_type": "execute_result"
    }
   ],
   "source": [
    "doc.characters"
   ]
  },
  {
   "cell_type": "code",
   "execution_count": 72,
   "metadata": {},
   "outputs": [],
   "source": [
    "class Cursor:\n",
    "    def __init__(self, document):\n",
    "        self.document = document\n",
    "        self.position = 0\n",
    "    \n",
    "    def forward(self):\n",
    "        self.position += 1\n",
    "        \n",
    "    def back(self):\n",
    "        self.position -= 1\n",
    "    \n",
    "    def home(self):\n",
    "        while self.document.characters[\n",
    "            self.position - 1].character != \"\\n\":\n",
    "            self.position -= 1\n",
    "            if self.position == 0:\n",
    "                break # Got to the beginning of file before new line\n",
    "    \n",
    "    def end(self):\n",
    "        while self.position < len(self.document.characters) and \\\n",
    "        self.document.characters[self.position].character != \"\\n\":\n",
    "            self.position += 1"
   ]
  },
  {
   "cell_type": "code",
   "execution_count": 58,
   "metadata": {},
   "outputs": [],
   "source": [
    "d = Document()"
   ]
  },
  {
   "cell_type": "code",
   "execution_count": 59,
   "metadata": {},
   "outputs": [],
   "source": [
    "d.insert('h')\n",
    "d.insert('e')\n",
    "d.insert('l')\n",
    "d.insert('l')\n",
    "d.insert('o')\n",
    "d.insert('\\n')\n",
    "d.insert('w')\n",
    "d.insert('o')\n",
    "d.insert('r')\n",
    "d.insert('l')\n",
    "d.insert('d')"
   ]
  },
  {
   "cell_type": "code",
   "execution_count": 60,
   "metadata": {},
   "outputs": [
    {
     "data": {
      "text/plain": [
       "['h', 'e', 'l', 'l', 'o', '\\n', 'w', 'o', 'r', 'l', 'd']"
      ]
     },
     "execution_count": 60,
     "metadata": {},
     "output_type": "execute_result"
    }
   ],
   "source": [
    "d.characters"
   ]
  },
  {
   "cell_type": "code",
   "execution_count": 61,
   "metadata": {},
   "outputs": [
    {
     "data": {
      "text/plain": [
       "11"
      ]
     },
     "execution_count": 61,
     "metadata": {},
     "output_type": "execute_result"
    }
   ],
   "source": [
    "d.cursor"
   ]
  },
  {
   "cell_type": "code",
   "execution_count": 62,
   "metadata": {},
   "outputs": [],
   "source": [
    "d.cursor = 6"
   ]
  },
  {
   "cell_type": "code",
   "execution_count": 63,
   "metadata": {},
   "outputs": [],
   "source": [
    "d.insert('*')"
   ]
  },
  {
   "cell_type": "code",
   "execution_count": 64,
   "metadata": {},
   "outputs": [
    {
     "data": {
      "text/plain": [
       "['h', 'e', 'l', 'l', 'o', '\\n', '*', 'w', 'o', 'r', 'l', 'd']"
      ]
     },
     "execution_count": 64,
     "metadata": {},
     "output_type": "execute_result"
    }
   ],
   "source": [
    "d.characters"
   ]
  },
  {
   "cell_type": "code",
   "execution_count": 65,
   "metadata": {},
   "outputs": [
    {
     "name": "stdout",
     "output_type": "stream",
     "text": [
      "hello\n",
      "*world\n"
     ]
    }
   ],
   "source": [
    "print(\"\".join(d.characters))"
   ]
  },
  {
   "cell_type": "code",
   "execution_count": 66,
   "metadata": {},
   "outputs": [
    {
     "name": "stdout",
     "output_type": "stream",
     "text": [
      "hello\n",
      "*world\n"
     ]
    }
   ],
   "source": [
    "print(d.string)"
   ]
  },
  {
   "cell_type": "code",
   "execution_count": 73,
   "metadata": {},
   "outputs": [],
   "source": [
    "class Character:\n",
    "    def __init__(self, character, bold=False, italic=False, underline=False):\n",
    "        assert len(character) == 1\n",
    "        self.character = character\n",
    "        self.bold = bold\n",
    "        self.italic = italic\n",
    "        self.underline = underline\n",
    "    \n",
    "    def __str__(self):\n",
    "        bold = \"*\" if self.bold else \"\"\n",
    "        italic = \"/\" if self.italic else \"\"\n",
    "        underline = \"_\" if self.underline else \"\"\n",
    "        return bold + italic + underline + self.character"
   ]
  },
  {
   "cell_type": "code",
   "execution_count": 74,
   "metadata": {},
   "outputs": [],
   "source": [
    "d = Document()"
   ]
  },
  {
   "cell_type": "code",
   "execution_count": 75,
   "metadata": {},
   "outputs": [],
   "source": [
    "d.insert('h')\n",
    "d.insert('e')\n",
    "d.insert(Character('l', bold=True))\n",
    "d.insert(Character('l', bold=True))"
   ]
  },
  {
   "cell_type": "code",
   "execution_count": 76,
   "metadata": {},
   "outputs": [
    {
     "name": "stdout",
     "output_type": "stream",
     "text": [
      "he*l*l\n"
     ]
    }
   ],
   "source": [
    "print(d.string)"
   ]
  },
  {
   "cell_type": "code",
   "execution_count": null,
   "metadata": {},
   "outputs": [],
   "source": []
  }
 ],
 "metadata": {
  "kernelspec": {
   "display_name": "Python 3",
   "language": "python",
   "name": "python3"
  },
  "language_info": {
   "codemirror_mode": {
    "name": "ipython",
    "version": 3
   },
   "file_extension": ".py",
   "mimetype": "text/x-python",
   "name": "python",
   "nbconvert_exporter": "python",
   "pygments_lexer": "ipython3",
   "version": "3.8.3"
  }
 },
 "nbformat": 4,
 "nbformat_minor": 4
}
