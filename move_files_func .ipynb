{
 "cells": [
  {
   "cell_type": "markdown",
   "metadata": {},
   "source": [
    "### Keyword arguments \n",
    "These are very useful when we need to accept arbitrary arguments to pass to  a second function, but we don't know what those arguments will be, for example when building support for multiple inheritance. One option is to combine the variable argument and variable keyword argument syntax in one function call, and use normal positional and default arguments as well. The following example below, although somewhat contrived, demonstrates the four types in action (Phillips, Dusty, \"Python Object-Oriented Programming\", third edition, p 211.)"
   ]
  },
  {
   "cell_type": "code",
   "execution_count": 14,
   "metadata": {},
   "outputs": [],
   "source": [
    "import shutil\n",
    "import os.path\n",
    "\n",
    "def augmented_move(target_folder,\n",
    "                   *filenames,\n",
    "                   verbose=False,\n",
    "                   **specific):\n",
    "    \"\"\"Move all filenames into the target_folder, allowing foe specific treatment \n",
    "    of certain file types\"\"\"\n",
    "    \n",
    "    def print_verbose(message, filenames):\n",
    "        \"\"\"Print the message only when verbose is enables\"\"\"\n",
    "        if verbose:\n",
    "            print(message.format(filename))\n",
    "            \n",
    "    for filename in filenames:\n",
    "        target_path = os.path.join(target_folder, filename)\n",
    "        if filename in specific:\n",
    "            if specific[filename] == \"ignore\":\n",
    "                print_verbose(\"Ignoring {0} \", filename)\n",
    "            elif specific[filename] == \"copy\":\n",
    "                print_verbose(\"Copying {0} \", filename)\n",
    "                shutil.copyfile(filename, target_path)\n",
    "            else:\n",
    "                print_verbose(\"Moving {0} \", filename)\n",
    "                shutil.move(filename, target_path)\n",
    "            "
   ]
  },
  {
   "cell_type": "code",
   "execution_count": 15,
   "metadata": {},
   "outputs": [],
   "source": [
    "augmented_move('move here', 'three', verbose=True, four='copy')"
   ]
  },
  {
   "cell_type": "markdown",
   "metadata": {},
   "source": [
    "### Functions are objects too\n",
    "Should be able to pass two different functions into a thirsd function and get different output for each one"
   ]
  },
  {
   "cell_type": "code",
   "execution_count": 16,
   "metadata": {},
   "outputs": [],
   "source": [
    "def my_function():\n",
    "    print(\"The first my_function() was called\")\n",
    "my_function.description = \"My first silly finction\"\n",
    "\n",
    "def the_second_function():\n",
    "    print(\"Now the second fucntion was called\")\n",
    "the_second_function.description = \"set description for the_seconf_function\"\n",
    "\n",
    "def another_function(function):\n",
    "    print(\"The description:\", end=\" \")\n",
    "    print(function.description)\n",
    "    print(\"The name: \", end=\" \")\n",
    "    print(function.__name__)\n",
    "    print(\"The class: \", end=\" \")\n",
    "    print(function.__class__)\n",
    "    print(\"Now call the function that was passed in\")\n",
    "    function()"
   ]
  },
  {
   "cell_type": "code",
   "execution_count": 17,
   "metadata": {},
   "outputs": [
    {
     "name": "stdout",
     "output_type": "stream",
     "text": [
      "The description: My first silly finction\n",
      "The name:  my_function\n",
      "The class:  <class 'function'>\n",
      "Now call the function that was passed in\n",
      "The first my_function() was called\n"
     ]
    }
   ],
   "source": [
    "another_function(my_function)"
   ]
  },
  {
   "cell_type": "code",
   "execution_count": 18,
   "metadata": {},
   "outputs": [
    {
     "name": "stdout",
     "output_type": "stream",
     "text": [
      "The description: set description for the_seconf_function\n",
      "The name:  the_second_function\n",
      "The class:  <class 'function'>\n",
      "Now call the function that was passed in\n",
      "Now the second fucntion was called\n"
     ]
    }
   ],
   "source": [
    "another_function(the_second_function)"
   ]
  },
  {
   "cell_type": "markdown",
   "metadata": {},
   "source": [
    "### Event-driven timer\n",
    "Functions are top-level objects and can be passed around to be executed at a later date, for example , when a certain condition has been satisfied."
   ]
  },
  {
   "cell_type": "code",
   "execution_count": 19,
   "metadata": {},
   "outputs": [],
   "source": [
    "import time\n",
    "import datetime\n",
    "\n",
    "class TimedEvent:\n",
    "    def __init__(self, endtime, callback):\n",
    "        self.endtime = endtime\n",
    "        self.callback = callback\n",
    "    \n",
    "    def ready(self):\n",
    "        return self.endtime <= datetime.datetime.now()\n",
    "    \n",
    "class Timer:\n",
    "    def __init__(self):\n",
    "        self.events = []\n",
    "        \n",
    "    def call_after"
   ]
  },
  {
   "cell_type": "code",
   "execution_count": null,
   "metadata": {},
   "outputs": [],
   "source": []
  }
 ],
 "metadata": {
  "kernelspec": {
   "display_name": "Python 3",
   "language": "python",
   "name": "python3"
  },
  "language_info": {
   "codemirror_mode": {
    "name": "ipython",
    "version": 3
   },
   "file_extension": ".py",
   "mimetype": "text/x-python",
   "name": "python",
   "nbconvert_exporter": "python",
   "pygments_lexer": "ipython3",
   "version": "3.8.3"
  }
 },
 "nbformat": 4,
 "nbformat_minor": 4
}
