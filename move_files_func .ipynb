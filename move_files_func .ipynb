{
 "cells": [
  {
   "cell_type": "markdown",
   "metadata": {},
   "source": [
    "**Keyword arguments** are very useful when we need to accept arbitrary arguments to pass to  a second function, but we don't know what those arguments will be, for example when building support for multiple inheritance. One option is to combine the variable argument and variable keyword argument syntax in one function call, and use normal positional and default arguments as well. The following example below, although somewhat contrived, demonstrates the four types in action (Phillips, Dusty, \"Python Object-Oriented Programming\", third edition, p 211.)"
   ]
  },
  {
   "cell_type": "code",
   "execution_count": 4,
   "metadata": {},
   "outputs": [],
   "source": [
    "import shutil\n",
    "import os.path\n",
    "\n",
    "def augmented_move(target_folder,\n",
    "                   *filenames,\n",
    "                   verbose=False,\n",
    "                   **specific):\n",
    "    \"\"\"Move all filenames into the target_folder, allowing foe specific treatment \n",
    "    of certain file types\"\"\"\n",
    "    \n",
    "    def print_verbose(message, filenames):\n",
    "        \"\"\"Print the message only when verbose is enables\"\"\"\n",
    "        if verbose:\n",
    "            print(message.format(filename))\n",
    "            \n",
    "    for filename in filenames:\n",
    "        target_path = os.path.join(target_folder, filename)\n",
    "        if filename in specific:\n",
    "            if specific[filename] == \"ignore\":\n",
    "                print_verbose(\"Ignoring {0} \", filename)\n",
    "            elif specific[filename] == \"copy\":\n",
    "                print_verbose(\"Copying {0} \", filename)\n",
    "                shutil.copyfile(filename, target_path)\n",
    "            else:\n",
    "                print_verbose(\"Moving {0} \", filename)\n",
    "                shutil.move(filename, target_path)\n",
    "            "
   ]
  },
  {
   "cell_type": "code",
   "execution_count": 9,
   "metadata": {},
   "outputs": [],
   "source": [
    "augmented_move('move here', 'three', verbose=True, four='copy')"
   ]
  },
  {
   "cell_type": "code",
   "execution_count": null,
   "metadata": {},
   "outputs": [],
   "source": []
  },
  {
   "cell_type": "code",
   "execution_count": null,
   "metadata": {},
   "outputs": [],
   "source": []
  }
 ],
 "metadata": {
  "kernelspec": {
   "display_name": "Python 3",
   "language": "python",
   "name": "python3"
  },
  "language_info": {
   "codemirror_mode": {
    "name": "ipython",
    "version": 3
   },
   "file_extension": ".py",
   "mimetype": "text/x-python",
   "name": "python",
   "nbconvert_exporter": "python",
   "pygments_lexer": "ipython3",
   "version": "3.8.3"
  }
 },
 "nbformat": 4,
 "nbformat_minor": 4
}
